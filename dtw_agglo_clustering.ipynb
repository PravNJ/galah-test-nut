{
 "cells": [
  {
   "cell_type": "code",
   "execution_count": 2,
   "id": "164ecd33",
   "metadata": {},
   "outputs": [],
   "source": [
    "import h5py\n",
    "import numpy as np\n",
    "import pandas as pd \n",
    "\n",
    "import fastdtw\n",
    "import scipy.spatial.distance as sd\n",
    "\n",
    "from scipy import ndimage \n",
    "from scipy.cluster import hierarchy \n",
    "from scipy.spatial import distance_matrix \n",
    "from sklearn import manifold, datasets \n",
    "from sklearn.cluster import AgglomerativeClustering\n",
    "\n",
    "import matplotlib.pyplot as plt\n",
    "import seaborn as sns \n",
    "plt.rcParams[\"figure.figsize\"] = [16,9]\n",
    "sns.set_style('whitegrid')\n",
    "\n",
    "GRID_SIZE = 0.06\n",
    "LOWER_LAMBDA = 6472.5\n",
    "UPPER_LAMBDA = 6740\n",
    "PLOT_MASK = range(1475,1550)"
   ]
  },
  {
   "cell_type": "code",
   "execution_count": 3,
   "id": "974823a2",
   "metadata": {},
   "outputs": [],
   "source": [
    "hf_spec = h5py.File(\"/data/praveen/GDR3_non_null_resampled_spectra.h5\", \"r\")\n",
    "df1 = pd.DataFrame(hf_spec[\"spectra\"])\n",
    "\n",
    "hf_spec_2 = h5py.File(\"/data/praveen/GDR3_missed60K_resampled_spectra.h5\", \"r\")\n",
    "df2 = pd.DataFrame(hf_spec_2[\"spectra\"])\n",
    "\n",
    "frames = [df1, df2]\n",
    "result = pd.concat(frames)"
   ]
  },
  {
   "cell_type": "code",
   "execution_count": 4,
   "id": "74e2e4ca",
   "metadata": {},
   "outputs": [],
   "source": [
    "df_masked = result.loc[:,PLOT_MASK]\n",
    "df_masked_np = df_masked.to_numpy()"
   ]
  },
  {
   "cell_type": "code",
   "execution_count": 5,
   "id": "33da8f6d",
   "metadata": {},
   "outputs": [
    {
     "data": {
      "text/plain": [
       "array([[1.00292947, 1.02009993, 1.02449091, ..., 1.01727503, 1.0032992 ,\n",
       "        0.99269212],\n",
       "       [0.91397414, 0.92508009, 0.91401545, ..., 0.97527804, 0.96492472,\n",
       "        0.94062854],\n",
       "       [0.85256761, 0.85561886, 0.85255965, ..., 0.88472869, 0.87888464,\n",
       "        0.85965847],\n",
       "       ...,\n",
       "       [0.75763265, 0.76384388, 0.75887171, ..., 0.80009313, 0.79944416,\n",
       "        0.81120826],\n",
       "       [0.89527092, 0.89327475, 0.89152492, ..., 0.9169642 , 0.92062587,\n",
       "        0.91718901],\n",
       "       [0.76812834, 0.76685381, 0.77277509, ..., 0.80705675, 0.81220549,\n",
       "        0.81335903]])"
      ]
     },
     "execution_count": 5,
     "metadata": {},
     "output_type": "execute_result"
    }
   ],
   "source": [
    "df_masked_np"
   ]
  },
  {
   "cell_type": "code",
   "execution_count": 6,
   "id": "0be0beb1",
   "metadata": {},
   "outputs": [],
   "source": [
    "def my_fastdtw(spec1, spec2):\n",
    "    return fastdtw.fastdtw(spec1, spec2)[0]"
   ]
  },
  {
   "cell_type": "code",
   "execution_count": 7,
   "id": "c8bef40d",
   "metadata": {},
   "outputs": [
    {
     "ename": "MemoryError",
     "evalue": "Unable to allocate 1.26 TiB for an array with shape (173074036996,) and data type float64",
     "output_type": "error",
     "traceback": [
      "\u001b[0;31m---------------------------------------------------------------------------\u001b[0m",
      "\u001b[0;31mMemoryError\u001b[0m                               Traceback (most recent call last)",
      "\u001b[0;32m<ipython-input-7-2dc16047fd9d>\u001b[0m in \u001b[0;36m<module>\u001b[0;34m\u001b[0m\n\u001b[0;32m----> 1\u001b[0;31m \u001b[0mdistance_matrix\u001b[0m \u001b[0;34m=\u001b[0m \u001b[0msd\u001b[0m\u001b[0;34m.\u001b[0m\u001b[0mpdist\u001b[0m\u001b[0;34m(\u001b[0m\u001b[0mdf_masked_np\u001b[0m\u001b[0;34m,\u001b[0m \u001b[0mmy_fastdtw\u001b[0m\u001b[0;34m)\u001b[0m\u001b[0;34m\u001b[0m\u001b[0;34m\u001b[0m\u001b[0m\n\u001b[0m",
      "\u001b[0;32m~/anaconda3/envs/galah_38/lib/python3.8/site-packages/scipy/spatial/distance.py\u001b[0m in \u001b[0;36mpdist\u001b[0;34m(X, metric, out, **kwargs)\u001b[0m\n\u001b[1;32m   2241\u001b[0m                 X, m, n, metric_info, **kwargs)\n\u001b[1;32m   2242\u001b[0m \u001b[0;34m\u001b[0m\u001b[0m\n\u001b[0;32m-> 2243\u001b[0;31m         \u001b[0;32mreturn\u001b[0m \u001b[0m_pdist_callable\u001b[0m\u001b[0;34m(\u001b[0m\u001b[0mX\u001b[0m\u001b[0;34m,\u001b[0m \u001b[0mmetric\u001b[0m\u001b[0;34m=\u001b[0m\u001b[0mmetric\u001b[0m\u001b[0;34m,\u001b[0m \u001b[0mout\u001b[0m\u001b[0;34m=\u001b[0m\u001b[0mout\u001b[0m\u001b[0;34m,\u001b[0m \u001b[0;34m**\u001b[0m\u001b[0mkwargs\u001b[0m\u001b[0;34m)\u001b[0m\u001b[0;34m\u001b[0m\u001b[0;34m\u001b[0m\u001b[0m\n\u001b[0m\u001b[1;32m   2244\u001b[0m     \u001b[0;32melif\u001b[0m \u001b[0misinstance\u001b[0m\u001b[0;34m(\u001b[0m\u001b[0mmetric\u001b[0m\u001b[0;34m,\u001b[0m \u001b[0mstr\u001b[0m\u001b[0;34m)\u001b[0m\u001b[0;34m:\u001b[0m\u001b[0;34m\u001b[0m\u001b[0;34m\u001b[0m\u001b[0m\n\u001b[1;32m   2245\u001b[0m         \u001b[0mmstr\u001b[0m \u001b[0;34m=\u001b[0m \u001b[0mmetric\u001b[0m\u001b[0;34m.\u001b[0m\u001b[0mlower\u001b[0m\u001b[0;34m(\u001b[0m\u001b[0;34m)\u001b[0m\u001b[0;34m\u001b[0m\u001b[0;34m\u001b[0m\u001b[0m\n",
      "\u001b[0;32m~/anaconda3/envs/galah_38/lib/python3.8/site-packages/scipy/spatial/distance.py\u001b[0m in \u001b[0;36m_pdist_callable\u001b[0;34m(X, out, metric, **kwargs)\u001b[0m\n\u001b[1;32m   2595\u001b[0m     \u001b[0mn\u001b[0m \u001b[0;34m=\u001b[0m \u001b[0mX\u001b[0m\u001b[0;34m.\u001b[0m\u001b[0mshape\u001b[0m\u001b[0;34m[\u001b[0m\u001b[0;36m0\u001b[0m\u001b[0;34m]\u001b[0m\u001b[0;34m\u001b[0m\u001b[0;34m\u001b[0m\u001b[0m\n\u001b[1;32m   2596\u001b[0m     \u001b[0mout_size\u001b[0m \u001b[0;34m=\u001b[0m \u001b[0;34m(\u001b[0m\u001b[0mn\u001b[0m \u001b[0;34m*\u001b[0m \u001b[0;34m(\u001b[0m\u001b[0mn\u001b[0m \u001b[0;34m-\u001b[0m \u001b[0;36m1\u001b[0m\u001b[0;34m)\u001b[0m\u001b[0;34m)\u001b[0m \u001b[0;34m//\u001b[0m \u001b[0;36m2\u001b[0m\u001b[0;34m\u001b[0m\u001b[0;34m\u001b[0m\u001b[0m\n\u001b[0;32m-> 2597\u001b[0;31m     \u001b[0mdm\u001b[0m \u001b[0;34m=\u001b[0m \u001b[0m_prepare_out_argument\u001b[0m\u001b[0;34m(\u001b[0m\u001b[0mout\u001b[0m\u001b[0;34m,\u001b[0m \u001b[0mnp\u001b[0m\u001b[0;34m.\u001b[0m\u001b[0mdouble\u001b[0m\u001b[0;34m,\u001b[0m \u001b[0;34m(\u001b[0m\u001b[0mout_size\u001b[0m\u001b[0;34m,\u001b[0m\u001b[0;34m)\u001b[0m\u001b[0;34m)\u001b[0m\u001b[0;34m\u001b[0m\u001b[0;34m\u001b[0m\u001b[0m\n\u001b[0m\u001b[1;32m   2598\u001b[0m     \u001b[0mk\u001b[0m \u001b[0;34m=\u001b[0m \u001b[0;36m0\u001b[0m\u001b[0;34m\u001b[0m\u001b[0;34m\u001b[0m\u001b[0m\n\u001b[1;32m   2599\u001b[0m     \u001b[0;32mfor\u001b[0m \u001b[0mi\u001b[0m \u001b[0;32min\u001b[0m \u001b[0mrange\u001b[0m\u001b[0;34m(\u001b[0m\u001b[0mX\u001b[0m\u001b[0;34m.\u001b[0m\u001b[0mshape\u001b[0m\u001b[0;34m[\u001b[0m\u001b[0;36m0\u001b[0m\u001b[0;34m]\u001b[0m \u001b[0;34m-\u001b[0m \u001b[0;36m1\u001b[0m\u001b[0;34m)\u001b[0m\u001b[0;34m:\u001b[0m\u001b[0;34m\u001b[0m\u001b[0;34m\u001b[0m\u001b[0m\n",
      "\u001b[0;32m~/anaconda3/envs/galah_38/lib/python3.8/site-packages/scipy/spatial/distance.py\u001b[0m in \u001b[0;36m_prepare_out_argument\u001b[0;34m(out, dtype, expected_shape)\u001b[0m\n\u001b[1;32m   2581\u001b[0m \u001b[0;32mdef\u001b[0m \u001b[0m_prepare_out_argument\u001b[0m\u001b[0;34m(\u001b[0m\u001b[0mout\u001b[0m\u001b[0;34m,\u001b[0m \u001b[0mdtype\u001b[0m\u001b[0;34m,\u001b[0m \u001b[0mexpected_shape\u001b[0m\u001b[0;34m)\u001b[0m\u001b[0;34m:\u001b[0m\u001b[0;34m\u001b[0m\u001b[0;34m\u001b[0m\u001b[0m\n\u001b[1;32m   2582\u001b[0m     \u001b[0;32mif\u001b[0m \u001b[0mout\u001b[0m \u001b[0;32mis\u001b[0m \u001b[0;32mNone\u001b[0m\u001b[0;34m:\u001b[0m\u001b[0;34m\u001b[0m\u001b[0;34m\u001b[0m\u001b[0m\n\u001b[0;32m-> 2583\u001b[0;31m         \u001b[0;32mreturn\u001b[0m \u001b[0mnp\u001b[0m\u001b[0;34m.\u001b[0m\u001b[0mempty\u001b[0m\u001b[0;34m(\u001b[0m\u001b[0mexpected_shape\u001b[0m\u001b[0;34m,\u001b[0m \u001b[0mdtype\u001b[0m\u001b[0;34m=\u001b[0m\u001b[0mdtype\u001b[0m\u001b[0;34m)\u001b[0m\u001b[0;34m\u001b[0m\u001b[0;34m\u001b[0m\u001b[0m\n\u001b[0m\u001b[1;32m   2584\u001b[0m \u001b[0;34m\u001b[0m\u001b[0m\n\u001b[1;32m   2585\u001b[0m     \u001b[0;32mif\u001b[0m \u001b[0mout\u001b[0m\u001b[0;34m.\u001b[0m\u001b[0mshape\u001b[0m \u001b[0;34m!=\u001b[0m \u001b[0mexpected_shape\u001b[0m\u001b[0;34m:\u001b[0m\u001b[0;34m\u001b[0m\u001b[0;34m\u001b[0m\u001b[0m\n",
      "\u001b[0;31mMemoryError\u001b[0m: Unable to allocate 1.26 TiB for an array with shape (173074036996,) and data type float64"
     ]
    }
   ],
   "source": [
    "distance_matrix = sd.pdist(df_masked_np, my_fastdtw)"
   ]
  },
  {
   "cell_type": "code",
   "execution_count": null,
   "id": "787fb55a",
   "metadata": {},
   "outputs": [],
   "source": [
    "distance_matrix_square_form = sd.squareform(distance_matrix)"
   ]
  },
  {
   "cell_type": "code",
   "execution_count": null,
   "id": "4002fb48",
   "metadata": {},
   "outputs": [],
   "source": [
    "hf_dtwdistance = h5py.File(\"/data/praveen/dtw_distances_all_galah.h5\",\"w\")"
   ]
  },
  {
   "cell_type": "code",
   "execution_count": null,
   "id": "7f86761b",
   "metadata": {},
   "outputs": [],
   "source": [
    "hf_dtwdistance.create_dataset(\"dtw_distance\", data=distance_matrix_square_form)\n",
    "hf_dtwdistance.close()"
   ]
  },
  {
   "cell_type": "code",
   "execution_count": null,
   "id": "b75713c7",
   "metadata": {},
   "outputs": [],
   "source": [
    "def distance_cost_plot(distances):\n",
    "    im = plt.imshow(distances, interpolation='nearest', cmap='Blues') \n",
    "    plt.gca().invert_yaxis()\n",
    "    plt.xlabel(\"X\")\n",
    "    plt.ylabel(\"Y\")\n",
    "    plt.grid()\n",
    "    plt.colorbar();"
   ]
  },
  {
   "cell_type": "code",
   "execution_count": null,
   "id": "923385db",
   "metadata": {},
   "outputs": [],
   "source": [
    "distance_cost_plot(distance_matrix_square_form)"
   ]
  }
 ],
 "metadata": {
  "kernelspec": {
   "display_name": "Python 3.8.11 64-bit ('galah_38': conda)",
   "language": "python",
   "name": "python3811jvsc74a57bd0990dc4f98e772390967ebb58feb6d8ba345f9894e89a1f74c7ac4577afaa2020"
  },
  "language_info": {
   "codemirror_mode": {
    "name": "ipython",
    "version": 3
   },
   "file_extension": ".py",
   "mimetype": "text/x-python",
   "name": "python",
   "nbconvert_exporter": "python",
   "pygments_lexer": "ipython3",
   "version": "3.8.11"
  }
 },
 "nbformat": 4,
 "nbformat_minor": 5
}
