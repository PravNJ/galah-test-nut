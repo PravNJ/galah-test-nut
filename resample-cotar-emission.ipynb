{
 "cells": [
  {
   "cell_type": "code",
   "execution_count": 1,
   "source": [
    "import numpy as np\n",
    "import astropy.io.fits as pyfits\n",
    "import matplotlib.pyplot as plt\n",
    "import glob\n",
    "# making the plots look good \n",
    "import seaborn as sns \n",
    "plt.rcParams[\"figure.figsize\"] = [16,9]\n",
    "sns.set_style('whitegrid')\n",
    "\n",
    "# loading spectres for a resampling test https://spectres.readthedocs.io/en/latest/ \n",
    "from spectres import spectres\n",
    "from matplotlib import gridspec"
   ],
   "outputs": [],
   "metadata": {}
  },
  {
   "cell_type": "code",
   "execution_count": 2,
   "source": [
    "import pandas as pd\n",
    "df = pd.read_csv(\"best_emission_candidates.csv\",header=None)\n",
    "df.columns = [\"sobject_id\"]\n",
    "sobject_ids = df[\"sobject_id\"].to_numpy().tolist()"
   ],
   "outputs": [],
   "metadata": {}
  },
  {
   "cell_type": "code",
   "execution_count": 3,
   "source": [
    "def read_spectra(sobject_id):\n",
    "    fits_files = [[],[],[],[]]\n",
    "    for each_ccd in [1,2,3,4]:\n",
    "        fits_files[each_ccd-1] = glob.glob(\"/data/praveen/galah-total/galah/dr3/spectra/hermes/\"+str(sobject_id)+str(each_ccd)+\".fits\") #this is reading fits files from file and not downloading directly \n",
    "\n",
    "    spectrum = dict()\n",
    "    for each_ccd in [1,2,3,4]: #GALAH uses indexing from 1 - 4\n",
    "        if fits_files[each_ccd-1]!=[]: #just using zero indexing here \n",
    "            fits = pyfits.open(fits_files[each_ccd-1][0]) \n",
    "            \n",
    "            # Extension 0: Reduced spectrum\n",
    "            # Extension 1: Relative error spectrum\n",
    "            # Extension 4: Normalised spectrum, NB: cut for CCD4\n",
    "\n",
    "            # Extract wavelength grid for the reduced spectrum\n",
    "            start_wavelength = fits[0].header[\"CRVAL1\"]\n",
    "            dispersion       = fits[0].header[\"CDELT1\"]\n",
    "            nr_pixels        = fits[0].header[\"NAXIS1\"]\n",
    "            reference_pixel  = fits[0].header[\"CRPIX1\"]\n",
    "\n",
    "            if reference_pixel == 0:\n",
    "                reference_pixel = 1\n",
    "            spectrum['wave_red_'+str(each_ccd)] = ((np.arange(0,nr_pixels)--reference_pixel+1)*dispersion+start_wavelength) #this is the reduced spectrum \n",
    "\n",
    "            # Extract wavelength grid for the normalised spectrum\n",
    "            start_wavelength = fits[4].header[\"CRVAL1\"]\n",
    "            dispersion       = fits[4].header[\"CDELT1\"]\n",
    "            nr_pixels        = fits[4].header[\"NAXIS1\"]\n",
    "            reference_pixel  = fits[4].header[\"CRPIX1\"]\n",
    "\n",
    "            if reference_pixel == 0:\n",
    "                reference_pixel=1\n",
    "            spectrum['wave_norm_'+str(each_ccd)] = ((np.arange(0,nr_pixels)--reference_pixel+1)*dispersion+start_wavelength) #this is the normalised spectrum \n",
    "\n",
    "            # need to confirm how this is calculated \n",
    "            spectrum['sob_red_'+str(each_ccd)]  = np.array(fits[0].data)\n",
    "            spectrum['uob_red_'+str(each_ccd)]  = np.array(fits[0].data * fits[1].data)\n",
    "\n",
    "            # need to confirm how this is calculated \n",
    "            spectrum['sob_norm_'+str(each_ccd)] = np.array(fits[4].data)\n",
    "            if each_ccd != 4:\n",
    "                spectrum['uob_norm_'+str(each_ccd)] = np.array(fits[4].data * fits[1].data)\n",
    "            else:\n",
    "                # for normalised error of CCD4, only used appropriate parts of error spectrum\n",
    "                spectrum['uob_norm_4'] = np.array(fits[4].data * (fits[1].data)[-len(spectrum['sob_norm_4']):])\n",
    "\n",
    "            fits.close()\n",
    "        else:\n",
    "            spectrum['wave_red_'+str(each_ccd)] = []\n",
    "            spectrum['wave_norm_'+str(each_ccd)] = []\n",
    "            spectrum['sob_red_'+str(each_ccd)] = []\n",
    "            spectrum['sob_norm_'+str(each_ccd)] = []\n",
    "            spectrum['uob_red_'+str(each_ccd)] = []\n",
    "            spectrum['uob_norm_'+str(each_ccd)] = []\n",
    "    \n",
    "    spectrum['wave_red'] = np.concatenate(([spectrum['wave_red_'+str(each_ccd)] for each_ccd in [1,2,3,4]]))\n",
    "    spectrum['wave_norm'] = np.concatenate(([spectrum['wave_norm_'+str(each_ccd)] for each_ccd in [1,2,3,4]]))\n",
    "    spectrum['sob_red'] = np.concatenate(([spectrum['sob_red_'+str(each_ccd)] for each_ccd in [1,2,3,4]]))\n",
    "    spectrum['sob_norm'] = np.concatenate(([spectrum['sob_norm_'+str(each_ccd)] for each_ccd in [1,2,3,4]]))\n",
    "    spectrum['uob_red'] = np.concatenate(([spectrum['uob_red_'+str(each_ccd)] for each_ccd in [1,2,3,4]]))\n",
    "    spectrum['uob_norm'] = np.concatenate(([spectrum['uob_norm_'+str(each_ccd)] for each_ccd in [1,2,3,4]]))\n",
    "\n",
    "    return spectrum #returns a 30 \"row\" dict of numpy array per row 'wave_red_x' is the key for the key value pair # need to look at camera 3 for lithium "
   ],
   "outputs": [],
   "metadata": {}
  },
  {
   "cell_type": "code",
   "execution_count": 4,
   "source": [
    "GRID_SIZE = 0.06\n",
    "LOWER_LAMBDA = 6472.5\n",
    "UPPER_LAMBDA = 6740\n",
    "\n",
    "regrid = np.arange(LOWER_LAMBDA, UPPER_LAMBDA, GRID_SIZE) \n",
    "\n",
    "def resample_spectra(spectrum, camera, verbose):\n",
    "\n",
    "    spec_resample, spec_errs_resample = spectres(regrid,  spectrum['wave_norm_'+str(camera)], spectrum['sob_norm_'+str(camera)], spec_errs= spectrum['uob_norm_'+str(camera)],verbose=verbose) \n",
    "\n",
    "    return spec_resample, spec_errs_resample"
   ],
   "outputs": [],
   "metadata": {}
  },
  {
   "cell_type": "code",
   "execution_count": 6,
   "source": [
    "resampled_spectra_collection = {}\n",
    "resampled_spectra_collection['spec_resample'] = []\n",
    "\n",
    "resampled_error_collection = {}\n",
    "resampled_error_collection['error_resample'] = []"
   ],
   "outputs": [],
   "metadata": {}
  },
  {
   "cell_type": "code",
   "execution_count": 7,
   "source": [
    "for sobject_id in sobject_ids:\n",
    "    #this is the normalised resampled spectra \n",
    "    temp_spectrum = resample_spectra(read_spectra(sobject_id), 3, False)\n",
    "    temp_spectrum[0][np.isnan(temp_spectrum[0])] = 1 #padding \n",
    "    resampled_spectra_collection['spec_resample'].append(temp_spectrum[0])\n",
    "\n",
    "    #these are the error spectra\n",
    "    #calculate mean error for padding \n",
    "\n",
    "    non_na_values = temp_spectrum[1][~np.isnan(temp_spectrum[1])]\n",
    "    mean_error = np.mean(non_na_values)\n",
    "\n",
    "    temp_spectrum[1][np.isnan(temp_spectrum[1])] = mean_error\n",
    "    resampled_error_collection['error_resample'].append(temp_spectrum[1])"
   ],
   "outputs": [],
   "metadata": {}
  },
  {
   "cell_type": "code",
   "execution_count": null,
   "source": [
    "import h5py\n",
    "\n",
    "#save the resampled spectra to be used as inputs to the training set\n",
    "hf_spec = h5py.File(\"/data/praveen/resampled_emission_spectra.h5\", \"w\")\n",
    "hf_spec.create_dataset('spectra', data=resampled_spectra_collection['spec_resample'])\n",
    "hf_spec.close()\n",
    "\n",
    "#save the wavelength grid \n",
    "hf_grid = h5py.File(\"/data/praveen/wl_grid.h5\", \"w\")\n",
    "hf_grid.create_dataset('wl_grid', data=regrid)\n",
    "hf_grid.close()\n",
    "\n",
    "#save the error spectra\n",
    "hf_error = h5py.File(\"/data/praveen/resampled_test_errors.h5\", \"w\")\n",
    "hf_error.create_dataset('errors', data=resampled_error_collection['error_resample'])\n",
    "hf_error.close()"
   ],
   "outputs": [],
   "metadata": {}
  }
 ],
 "metadata": {
  "orig_nbformat": 4,
  "language_info": {
   "name": "python",
   "version": "3.8.11",
   "mimetype": "text/x-python",
   "codemirror_mode": {
    "name": "ipython",
    "version": 3
   },
   "pygments_lexer": "ipython3",
   "nbconvert_exporter": "python",
   "file_extension": ".py"
  },
  "kernelspec": {
   "name": "python3",
   "display_name": "Python 3.8.11 64-bit ('galah_38': conda)"
  },
  "interpreter": {
   "hash": "990dc4f98e772390967ebb58feb6d8ba345f9894e89a1f74c7ac4577afaa2020"
  }
 },
 "nbformat": 4,
 "nbformat_minor": 2
}