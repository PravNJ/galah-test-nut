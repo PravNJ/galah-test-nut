{
 "cells": [
  {
   "cell_type": "code",
   "execution_count": 2,
   "id": "959001a4",
   "metadata": {},
   "outputs": [],
   "source": [
    "import h5py\n",
    "import numpy as np\n",
    "import pandas as pd \n",
    "\n",
    "import fastdtw\n",
    "import scipy.spatial.distance as sd\n",
    "\n",
    "from scipy import ndimage \n",
    "from scipy.cluster import hierarchy \n",
    "from scipy.spatial import distance_matrix \n",
    "from sklearn import manifold, datasets \n",
    "from sklearn.cluster import AgglomerativeClustering\n",
    "\n",
    "import matplotlib.pyplot as plt\n",
    "import seaborn as sns \n",
    "plt.rcParams[\"figure.figsize\"] = [16,9]\n",
    "sns.set_style('whitegrid')\n",
    "\n",
    "GRID_SIZE = 0.06\n",
    "LOWER_LAMBDA = 6472.5\n",
    "UPPER_LAMBDA = 6740\n",
    "PLOT_MASK = range(1475,1550)"
   ]
  },
  {
   "cell_type": "code",
   "execution_count": null,
   "id": "9decda7a",
   "metadata": {},
   "outputs": [],
   "source": [
    "hf_spec = h5py.File(\"/data/praveen/GDR3_non_null_resampled_spectra.h5\", \"r\")\n",
    "df1 = pd.DataFrame(hf_spec[\"spectra\"])\n",
    "\n",
    "hf_spec_2 = h5py.File(\"/data/praveen/GDR3_missed60K_resampled_spectra.h5\", \"r\")\n",
    "df2 = pd.DataFrame(hf_spec_2[\"spectra\"])\n",
    "\n",
    "frames = [df1, df2]\n",
    "result = pd.concat(frames)"
   ]
  },
  {
   "cell_type": "code",
   "execution_count": null,
   "id": "f8ff4182",
   "metadata": {},
   "outputs": [],
   "source": [
    "df_masked = result.loc[:,PLOT_MASK]\n",
    "df_masked_np = df_masked.to_numpy()"
   ]
  },
  {
   "cell_type": "code",
   "execution_count": null,
   "id": "d5498cc4",
   "metadata": {},
   "outputs": [],
   "source": [
    "def my_fastdtw(spec1, spec2):\n",
    "    return fastdtw.fastdtw(spec1, spec2)[0]"
   ]
  },
  {
   "cell_type": "code",
   "execution_count": null,
   "id": "32547d48",
   "metadata": {},
   "outputs": [],
   "source": [
    "distance_matrix = sd.pdist(df_masked_np, my_fastdtw)"
   ]
  },
  {
   "cell_type": "code",
   "execution_count": null,
   "id": "5046ca50",
   "metadata": {},
   "outputs": [],
   "source": [
    "distance_matrix_square_form = sd.squareform(distance_matrix)"
   ]
  },
  {
   "cell_type": "code",
   "execution_count": null,
   "id": "a3af40f5",
   "metadata": {},
   "outputs": [],
   "source": [
    "hf_dtwdistance = h5py.File(\"/data/praveen/dtw_distances_all_galah.h5\",\"w\")"
   ]
  },
  {
   "cell_type": "code",
   "execution_count": null,
   "id": "2766d141",
   "metadata": {},
   "outputs": [],
   "source": [
    "hf_dtwdistance.create_dataset(\"dtw_distance\", data=distance_matrix_square_form)\n",
    "hf_dtwdistance.close()"
   ]
  },
  {
   "cell_type": "code",
   "execution_count": null,
   "id": "a9f1f1fe",
   "metadata": {},
   "outputs": [],
   "source": [
    "def distance_cost_plot(distances):\n",
    "    im = plt.imshow(distances, interpolation='nearest', cmap='Blues') \n",
    "    plt.gca().invert_yaxis()\n",
    "    plt.xlabel(\"X\")\n",
    "    plt.ylabel(\"Y\")\n",
    "    plt.grid()\n",
    "    plt.colorbar();"
   ]
  },
  {
   "cell_type": "code",
   "execution_count": null,
   "id": "53d4f408",
   "metadata": {},
   "outputs": [],
   "source": [
    "distance_cost_plot(distance_matrix_square_form)"
   ]
  }
 ],
 "metadata": {
  "kernelspec": {
   "display_name": "Python 3.8.11 64-bit ('galah_38': conda)",
   "language": "python",
   "name": "python3811jvsc74a57bd0990dc4f98e772390967ebb58feb6d8ba345f9894e89a1f74c7ac4577afaa2020"
  },
  "language_info": {
   "codemirror_mode": {
    "name": "ipython",
    "version": 3
   },
   "file_extension": ".py",
   "mimetype": "text/x-python",
   "name": "python",
   "nbconvert_exporter": "python",
   "pygments_lexer": "ipython3",
   "version": "3.8.11"
  }
 },
 "nbformat": 4,
 "nbformat_minor": 5
}
