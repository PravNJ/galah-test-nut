{
 "cells": [
  {
   "cell_type": "code",
   "execution_count": 1,
   "id": "e41694a5",
   "metadata": {},
   "outputs": [],
   "source": [
    "import numpy as np\n",
    "import pandas as pd\n",
    "import matplotlib.pyplot as plt \n",
    "import seaborn as sns \n",
    "\n",
    "plt.rcParams[\"figure.figsize\"] = [16,9]\n",
    "sns.set_style('whitegrid')"
   ]
  },
  {
   "cell_type": "code",
   "execution_count": 2,
   "id": "36f9bd0f",
   "metadata": {},
   "outputs": [],
   "source": [
    "df_dr3_full = pd.read_csv(\"/data/praveen/results/dr3_full.csv\")"
   ]
  },
  {
   "cell_type": "code",
   "execution_count": 3,
   "id": "94f4d703",
   "metadata": {},
   "outputs": [],
   "source": [
    "df_dr3_full_predicted_inverted = pd.read_csv(\"/data/praveen/results/dr3_full_predicted_inverted.csv\")"
   ]
  },
  {
   "cell_type": "code",
   "execution_count": 5,
   "id": "307c6bc2",
   "metadata": {},
   "outputs": [],
   "source": [
    "df_dr3_predicted = 1 - df_dr3_full_predicted_inverted"
   ]
  },
  {
   "cell_type": "code",
   "execution_count": 6,
   "id": "23af10d5",
   "metadata": {},
   "outputs": [
    {
     "data": {
      "text/html": [
       "<div>\n",
       "<style scoped>\n",
       "    .dataframe tbody tr th:only-of-type {\n",
       "        vertical-align: middle;\n",
       "    }\n",
       "\n",
       "    .dataframe tbody tr th {\n",
       "        vertical-align: top;\n",
       "    }\n",
       "\n",
       "    .dataframe thead th {\n",
       "        text-align: right;\n",
       "    }\n",
       "</style>\n",
       "<table border=\"1\" class=\"dataframe\">\n",
       "  <thead>\n",
       "    <tr style=\"text-align: right;\">\n",
       "      <th></th>\n",
       "      <th>0</th>\n",
       "      <th>1</th>\n",
       "      <th>2</th>\n",
       "      <th>3</th>\n",
       "      <th>4</th>\n",
       "      <th>5</th>\n",
       "      <th>6</th>\n",
       "      <th>7</th>\n",
       "      <th>8</th>\n",
       "      <th>9</th>\n",
       "      <th>...</th>\n",
       "      <th>4449</th>\n",
       "      <th>4450</th>\n",
       "      <th>4451</th>\n",
       "      <th>4452</th>\n",
       "      <th>4453</th>\n",
       "      <th>4454</th>\n",
       "      <th>4455</th>\n",
       "      <th>4456</th>\n",
       "      <th>4457</th>\n",
       "      <th>4458</th>\n",
       "    </tr>\n",
       "  </thead>\n",
       "  <tbody>\n",
       "    <tr>\n",
       "      <th>0</th>\n",
       "      <td>0.999294</td>\n",
       "      <td>1.000770</td>\n",
       "      <td>1.000356</td>\n",
       "      <td>0.999640</td>\n",
       "      <td>1.000050</td>\n",
       "      <td>1.000876</td>\n",
       "      <td>0.999878</td>\n",
       "      <td>0.999918</td>\n",
       "      <td>1.000170</td>\n",
       "      <td>1.000392</td>\n",
       "      <td>...</td>\n",
       "      <td>0.999244</td>\n",
       "      <td>0.999872</td>\n",
       "      <td>0.999787</td>\n",
       "      <td>0.999909</td>\n",
       "      <td>0.999128</td>\n",
       "      <td>0.999669</td>\n",
       "      <td>0.999264</td>\n",
       "      <td>1.000809</td>\n",
       "      <td>0.999230</td>\n",
       "      <td>1.000937</td>\n",
       "    </tr>\n",
       "    <tr>\n",
       "      <th>1</th>\n",
       "      <td>0.999290</td>\n",
       "      <td>1.000219</td>\n",
       "      <td>1.000747</td>\n",
       "      <td>0.999470</td>\n",
       "      <td>0.999177</td>\n",
       "      <td>1.000009</td>\n",
       "      <td>0.999414</td>\n",
       "      <td>0.999451</td>\n",
       "      <td>1.000094</td>\n",
       "      <td>1.000656</td>\n",
       "      <td>...</td>\n",
       "      <td>0.999918</td>\n",
       "      <td>1.000362</td>\n",
       "      <td>1.000344</td>\n",
       "      <td>1.000076</td>\n",
       "      <td>0.999336</td>\n",
       "      <td>1.000703</td>\n",
       "      <td>0.999284</td>\n",
       "      <td>1.000406</td>\n",
       "      <td>0.999878</td>\n",
       "      <td>0.999794</td>\n",
       "    </tr>\n",
       "    <tr>\n",
       "      <th>2</th>\n",
       "      <td>0.999029</td>\n",
       "      <td>1.000251</td>\n",
       "      <td>1.000652</td>\n",
       "      <td>0.999220</td>\n",
       "      <td>0.999459</td>\n",
       "      <td>1.000482</td>\n",
       "      <td>0.999738</td>\n",
       "      <td>0.999624</td>\n",
       "      <td>0.999609</td>\n",
       "      <td>1.000594</td>\n",
       "      <td>...</td>\n",
       "      <td>0.999600</td>\n",
       "      <td>1.000088</td>\n",
       "      <td>0.999845</td>\n",
       "      <td>0.999934</td>\n",
       "      <td>0.999300</td>\n",
       "      <td>1.000617</td>\n",
       "      <td>0.999669</td>\n",
       "      <td>1.000779</td>\n",
       "      <td>0.999571</td>\n",
       "      <td>1.000243</td>\n",
       "    </tr>\n",
       "    <tr>\n",
       "      <th>3</th>\n",
       "      <td>0.998912</td>\n",
       "      <td>1.000359</td>\n",
       "      <td>1.000646</td>\n",
       "      <td>0.999807</td>\n",
       "      <td>0.999493</td>\n",
       "      <td>1.000113</td>\n",
       "      <td>0.999827</td>\n",
       "      <td>0.999144</td>\n",
       "      <td>0.999081</td>\n",
       "      <td>1.000589</td>\n",
       "      <td>...</td>\n",
       "      <td>0.999914</td>\n",
       "      <td>1.000373</td>\n",
       "      <td>1.000424</td>\n",
       "      <td>0.999850</td>\n",
       "      <td>0.999540</td>\n",
       "      <td>1.000289</td>\n",
       "      <td>0.999981</td>\n",
       "      <td>1.000651</td>\n",
       "      <td>0.999938</td>\n",
       "      <td>1.000111</td>\n",
       "    </tr>\n",
       "    <tr>\n",
       "      <th>4</th>\n",
       "      <td>0.999310</td>\n",
       "      <td>1.000478</td>\n",
       "      <td>1.000466</td>\n",
       "      <td>0.999791</td>\n",
       "      <td>0.999643</td>\n",
       "      <td>1.000235</td>\n",
       "      <td>0.999533</td>\n",
       "      <td>0.999430</td>\n",
       "      <td>0.999366</td>\n",
       "      <td>1.000537</td>\n",
       "      <td>...</td>\n",
       "      <td>0.999862</td>\n",
       "      <td>1.000177</td>\n",
       "      <td>1.000386</td>\n",
       "      <td>0.999695</td>\n",
       "      <td>0.999765</td>\n",
       "      <td>1.000514</td>\n",
       "      <td>0.999723</td>\n",
       "      <td>1.000678</td>\n",
       "      <td>0.999263</td>\n",
       "      <td>1.000651</td>\n",
       "    </tr>\n",
       "  </tbody>\n",
       "</table>\n",
       "<p>5 rows × 4459 columns</p>\n",
       "</div>"
      ],
      "text/plain": [
       "          0         1         2         3         4         5         6  \\\n",
       "0  0.999294  1.000770  1.000356  0.999640  1.000050  1.000876  0.999878   \n",
       "1  0.999290  1.000219  1.000747  0.999470  0.999177  1.000009  0.999414   \n",
       "2  0.999029  1.000251  1.000652  0.999220  0.999459  1.000482  0.999738   \n",
       "3  0.998912  1.000359  1.000646  0.999807  0.999493  1.000113  0.999827   \n",
       "4  0.999310  1.000478  1.000466  0.999791  0.999643  1.000235  0.999533   \n",
       "\n",
       "          7         8         9  ...      4449      4450      4451      4452  \\\n",
       "0  0.999918  1.000170  1.000392  ...  0.999244  0.999872  0.999787  0.999909   \n",
       "1  0.999451  1.000094  1.000656  ...  0.999918  1.000362  1.000344  1.000076   \n",
       "2  0.999624  0.999609  1.000594  ...  0.999600  1.000088  0.999845  0.999934   \n",
       "3  0.999144  0.999081  1.000589  ...  0.999914  1.000373  1.000424  0.999850   \n",
       "4  0.999430  0.999366  1.000537  ...  0.999862  1.000177  1.000386  0.999695   \n",
       "\n",
       "       4453      4454      4455      4456      4457      4458  \n",
       "0  0.999128  0.999669  0.999264  1.000809  0.999230  1.000937  \n",
       "1  0.999336  1.000703  0.999284  1.000406  0.999878  0.999794  \n",
       "2  0.999300  1.000617  0.999669  1.000779  0.999571  1.000243  \n",
       "3  0.999540  1.000289  0.999981  1.000651  0.999938  1.000111  \n",
       "4  0.999765  1.000514  0.999723  1.000678  0.999263  1.000651  \n",
       "\n",
       "[5 rows x 4459 columns]"
      ]
     },
     "execution_count": 6,
     "metadata": {},
     "output_type": "execute_result"
    }
   ],
   "source": [
    "df_dr3_predicted.head()"
   ]
  },
  {
   "cell_type": "code",
   "execution_count": 8,
   "id": "46f0ee12",
   "metadata": {},
   "outputs": [],
   "source": [
    "df_dr3_predicted[\"sobject_id\"]=df_dr3_full[\"sobject_id\"]"
   ]
  },
  {
   "cell_type": "code",
   "execution_count": null,
   "id": "f2589901",
   "metadata": {},
   "outputs": [],
   "source": [
    "dr3_ews = pd.read_csv(\"/data/praveen/results/dr3_difference_non_inverted_masked_ew.csv\")"
   ]
  },
  {
   "cell_type": "code",
   "execution_count": 9,
   "id": "73820827",
   "metadata": {},
   "outputs": [],
   "source": [
    "import h5py\n",
    "hf_grid = h5py.File(\"/data/praveen/wl_grid.h5\",\"r\")\n",
    "wl_grid = np.array(hf_grid[\"wl_grid\"])"
   ]
  },
  {
   "cell_type": "code",
   "execution_count": 10,
   "id": "f229c4cd",
   "metadata": {},
   "outputs": [],
   "source": [
    "PLOT_MASK = range(1475,1545)"
   ]
  },
  {
   "cell_type": "code",
   "execution_count": 12,
   "id": "956407d8",
   "metadata": {},
   "outputs": [
    {
     "name": "stderr",
     "output_type": "stream",
     "text": [
      "No artists with labels found to put in legend.  Note that artists whose label start with an underscore are ignored when legend() is called with no argument.\n"
     ]
    },
    {
     "data": {
      "image/png": "[encoded data removed]",
      "text/plain": [
       "<Figure size 1152x648 with 1 Axes>"
      ]
     },
     "metadata": {},
     "output_type": "display_data"
    }
   ],
   "source": [
    "f, ax = plt.subplots(figsize=(16,9))\n",
    "ax.plot(wl_grid[PLOT_MASK], df_dr3_predicted.loc[0,:][PLOT_MASK], color=\"cornflowerblue\", lw=1.5, label=df_dr3_predicted.loc[0,:][\"\"])\n",
    "plt.axvline(x=6562.83, color='coral')\n",
    "ax.set_xlabel(\"Wavelength ($\\mathrm{\\AA}$)\", size=12)\n",
    "ax.set_ylabel(\"Flux [norm.]\", size=12)\n",
    "ax.set_ylim((df_dr3_predicted.loc[0,:][PLOT_MASK].min()- 1.50),(20))\n",
    "ax.set_xlim(wl_grid[PLOT_MASK].min(), wl_grid[PLOT_MASK].max() )\n",
    "ax.legend()\n",
    "plt.show()"
   ]
  }
 ],
 "metadata": {
  "kernelspec": {
   "display_name": "Python 3 (ipykernel)",
   "language": "python",
   "name": "python3"
  },
  "language_info": {
   "codemirror_mode": {
    "name": "ipython",
    "version": 3
   },
   "file_extension": ".py",
   "mimetype": "text/x-python",
   "name": "python",
   "nbconvert_exporter": "python",
   "pygments_lexer": "ipython3",
   "version": "3.9.12"
  }
 },
 "nbformat": 4,
 "nbformat_minor": 5
}
