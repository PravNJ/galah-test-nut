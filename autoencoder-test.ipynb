{
 "cells": [
  {
   "cell_type": "code",
   "execution_count": 1,
   "metadata": {},
   "outputs": [
    {
     "ename": "ModuleNotFoundError",
     "evalue": "No module named 'sklearn'",
     "output_type": "error",
     "traceback": [
      "\u001b[0;31m---------------------------------------------------------------------------\u001b[0m",
      "\u001b[0;31mModuleNotFoundError\u001b[0m                       Traceback (most recent call last)",
      "Input \u001b[0;32mIn [1]\u001b[0m, in \u001b[0;36m<cell line: 6>\u001b[0;34m()\u001b[0m\n\u001b[1;32m      3\u001b[0m \u001b[38;5;28;01mimport\u001b[39;00m \u001b[38;5;21;01mpandas\u001b[39;00m \u001b[38;5;28;01mas\u001b[39;00m \u001b[38;5;21;01mpd\u001b[39;00m\n\u001b[1;32m      4\u001b[0m \u001b[38;5;66;03m#import tensorflow as tf\u001b[39;00m\n\u001b[1;32m      5\u001b[0m \u001b[38;5;66;03m#from tensorflow import keras\u001b[39;00m\n\u001b[0;32m----> 6\u001b[0m \u001b[38;5;28;01mfrom\u001b[39;00m \u001b[38;5;21;01msklearn\u001b[39;00m\u001b[38;5;21;01m.\u001b[39;00m\u001b[38;5;21;01mmodel_selection\u001b[39;00m \u001b[38;5;28;01mimport\u001b[39;00m train_test_split\n\u001b[1;32m      8\u001b[0m \u001b[38;5;28;01mimport\u001b[39;00m \u001b[38;5;21;01mmatplotlib\u001b[39;00m\u001b[38;5;21;01m.\u001b[39;00m\u001b[38;5;21;01mpyplot\u001b[39;00m \u001b[38;5;28;01mas\u001b[39;00m \u001b[38;5;21;01mplt\u001b[39;00m \n\u001b[1;32m      9\u001b[0m \u001b[38;5;28;01mimport\u001b[39;00m \u001b[38;5;21;01mseaborn\u001b[39;00m \u001b[38;5;28;01mas\u001b[39;00m \u001b[38;5;21;01msns\u001b[39;00m \n",
      "\u001b[0;31mModuleNotFoundError\u001b[0m: No module named 'sklearn'"
     ]
    }
   ],
   "source": [
    "import numpy as np\n",
    "import h5py\n",
    "import pandas as pd\n",
    "#import tensorflow as tf\n",
    "#from tensorflow import keras\n",
    "from sklearn.model_selection import train_test_split\n",
    "\n",
    "import matplotlib.pyplot as plt \n",
    "import seaborn as sns \n",
    "\n",
    "plt.rcParams[\"figure.figsize\"] = [16,9]\n",
    "sns.set_style('whitegrid')"
   ]
  },
  {
   "cell_type": "code",
   "execution_count": 5,
   "metadata": {},
   "outputs": [],
   "source": [
    "#what is our input layer sie? this is = to the length of the wl_grid\n",
    "#load wl_grid\n",
    "hf_spec = h5py.File(\"/home/pravn/Dropbox/Masters/Research Data/resampled_emission_spectra.h5\", \"r\")\n",
    "hf_grid = h5py.File(\"/home/pravn/Dropbox/Masters/Research Data/wl_grid.h5\", \"r\")\n",
    "\n",
    "wl_grid = np.array(hf_grid[\"wl_grid\"])\n",
    "df = pd.DataFrame(hf_spec[\"spectra\"])"
   ]
  },
  {
   "cell_type": "code",
   "execution_count": 6,
   "metadata": {},
   "outputs": [
    {
     "data": {
      "text/plain": [
       "4459"
      ]
     },
     "execution_count": 6,
     "metadata": {},
     "output_type": "execute_result"
    }
   ],
   "source": [
    "len(wl_grid)"
   ]
  },
  {
   "cell_type": "code",
   "execution_count": 7,
   "metadata": {},
   "outputs": [],
   "source": [
    "df_labeled = pd.read_csv(\"/home/pravn/Dropbox/Masters/galah-test-nut/best_emission_candidates_spectra_labels.csv\")"
   ]
  },
  {
   "cell_type": "code",
   "execution_count": 8,
   "metadata": {},
   "outputs": [
    {
     "data": {
      "text/plain": [
       "0       1\n",
       "1       2\n",
       "2       4\n",
       "3       2\n",
       "4       2\n",
       "       ..\n",
       "6972    3\n",
       "6973    1\n",
       "6974    1\n",
       "6975    1\n",
       "6976    2\n",
       "Name: label, Length: 6977, dtype: int64"
      ]
     },
     "execution_count": 8,
     "metadata": {},
     "output_type": "execute_result"
    }
   ],
   "source": [
    "df_labeled[\"label\"]"
   ]
  },
  {
   "cell_type": "code",
   "execution_count": 9,
   "metadata": {},
   "outputs": [],
   "source": [
    "df[\"label\"] = df_labeled[\"label\"]"
   ]
  },
  {
   "cell_type": "code",
   "execution_count": 10,
   "metadata": {},
   "outputs": [
    {
     "data": {
      "text/html": [
       "<div>\n",
       "<style scoped>\n",
       "    .dataframe tbody tr th:only-of-type {\n",
       "        vertical-align: middle;\n",
       "    }\n",
       "\n",
       "    .dataframe tbody tr th {\n",
       "        vertical-align: top;\n",
       "    }\n",
       "\n",
       "    .dataframe thead th {\n",
       "        text-align: right;\n",
       "    }\n",
       "</style>\n",
       "<table border=\"1\" class=\"dataframe\">\n",
       "  <thead>\n",
       "    <tr style=\"text-align: right;\">\n",
       "      <th></th>\n",
       "      <th>0</th>\n",
       "      <th>1</th>\n",
       "      <th>2</th>\n",
       "      <th>3</th>\n",
       "      <th>4</th>\n",
       "      <th>5</th>\n",
       "      <th>6</th>\n",
       "      <th>7</th>\n",
       "      <th>8</th>\n",
       "      <th>9</th>\n",
       "      <th>...</th>\n",
       "      <th>4450</th>\n",
       "      <th>4451</th>\n",
       "      <th>4452</th>\n",
       "      <th>4453</th>\n",
       "      <th>4454</th>\n",
       "      <th>4455</th>\n",
       "      <th>4456</th>\n",
       "      <th>4457</th>\n",
       "      <th>4458</th>\n",
       "      <th>label</th>\n",
       "    </tr>\n",
       "  </thead>\n",
       "  <tbody>\n",
       "    <tr>\n",
       "      <th>0</th>\n",
       "      <td>1.0</td>\n",
       "      <td>1.0</td>\n",
       "      <td>1.0</td>\n",
       "      <td>1.0</td>\n",
       "      <td>1.0</td>\n",
       "      <td>1.0</td>\n",
       "      <td>1.0</td>\n",
       "      <td>1.0</td>\n",
       "      <td>1.0</td>\n",
       "      <td>1.0</td>\n",
       "      <td>...</td>\n",
       "      <td>1.0</td>\n",
       "      <td>1.0</td>\n",
       "      <td>1.0</td>\n",
       "      <td>1.0</td>\n",
       "      <td>1.0</td>\n",
       "      <td>1.0</td>\n",
       "      <td>1.0</td>\n",
       "      <td>1.0</td>\n",
       "      <td>1.0</td>\n",
       "      <td>1</td>\n",
       "    </tr>\n",
       "    <tr>\n",
       "      <th>1</th>\n",
       "      <td>1.0</td>\n",
       "      <td>1.0</td>\n",
       "      <td>1.0</td>\n",
       "      <td>1.0</td>\n",
       "      <td>1.0</td>\n",
       "      <td>1.0</td>\n",
       "      <td>1.0</td>\n",
       "      <td>1.0</td>\n",
       "      <td>1.0</td>\n",
       "      <td>1.0</td>\n",
       "      <td>...</td>\n",
       "      <td>1.0</td>\n",
       "      <td>1.0</td>\n",
       "      <td>1.0</td>\n",
       "      <td>1.0</td>\n",
       "      <td>1.0</td>\n",
       "      <td>1.0</td>\n",
       "      <td>1.0</td>\n",
       "      <td>1.0</td>\n",
       "      <td>1.0</td>\n",
       "      <td>2</td>\n",
       "    </tr>\n",
       "    <tr>\n",
       "      <th>2</th>\n",
       "      <td>1.0</td>\n",
       "      <td>1.0</td>\n",
       "      <td>1.0</td>\n",
       "      <td>1.0</td>\n",
       "      <td>1.0</td>\n",
       "      <td>1.0</td>\n",
       "      <td>1.0</td>\n",
       "      <td>1.0</td>\n",
       "      <td>1.0</td>\n",
       "      <td>1.0</td>\n",
       "      <td>...</td>\n",
       "      <td>1.0</td>\n",
       "      <td>1.0</td>\n",
       "      <td>1.0</td>\n",
       "      <td>1.0</td>\n",
       "      <td>1.0</td>\n",
       "      <td>1.0</td>\n",
       "      <td>1.0</td>\n",
       "      <td>1.0</td>\n",
       "      <td>1.0</td>\n",
       "      <td>4</td>\n",
       "    </tr>\n",
       "    <tr>\n",
       "      <th>3</th>\n",
       "      <td>1.0</td>\n",
       "      <td>1.0</td>\n",
       "      <td>1.0</td>\n",
       "      <td>1.0</td>\n",
       "      <td>1.0</td>\n",
       "      <td>1.0</td>\n",
       "      <td>1.0</td>\n",
       "      <td>1.0</td>\n",
       "      <td>1.0</td>\n",
       "      <td>1.0</td>\n",
       "      <td>...</td>\n",
       "      <td>1.0</td>\n",
       "      <td>1.0</td>\n",
       "      <td>1.0</td>\n",
       "      <td>1.0</td>\n",
       "      <td>1.0</td>\n",
       "      <td>1.0</td>\n",
       "      <td>1.0</td>\n",
       "      <td>1.0</td>\n",
       "      <td>1.0</td>\n",
       "      <td>2</td>\n",
       "    </tr>\n",
       "    <tr>\n",
       "      <th>4</th>\n",
       "      <td>1.0</td>\n",
       "      <td>1.0</td>\n",
       "      <td>1.0</td>\n",
       "      <td>1.0</td>\n",
       "      <td>1.0</td>\n",
       "      <td>1.0</td>\n",
       "      <td>1.0</td>\n",
       "      <td>1.0</td>\n",
       "      <td>1.0</td>\n",
       "      <td>1.0</td>\n",
       "      <td>...</td>\n",
       "      <td>1.0</td>\n",
       "      <td>1.0</td>\n",
       "      <td>1.0</td>\n",
       "      <td>1.0</td>\n",
       "      <td>1.0</td>\n",
       "      <td>1.0</td>\n",
       "      <td>1.0</td>\n",
       "      <td>1.0</td>\n",
       "      <td>1.0</td>\n",
       "      <td>2</td>\n",
       "    </tr>\n",
       "  </tbody>\n",
       "</table>\n",
       "<p>5 rows × 4460 columns</p>\n",
       "</div>"
      ],
      "text/plain": [
       "     0    1    2    3    4    5    6    7    8    9  ...  4450  4451  4452  \\\n",
       "0  1.0  1.0  1.0  1.0  1.0  1.0  1.0  1.0  1.0  1.0  ...   1.0   1.0   1.0   \n",
       "1  1.0  1.0  1.0  1.0  1.0  1.0  1.0  1.0  1.0  1.0  ...   1.0   1.0   1.0   \n",
       "2  1.0  1.0  1.0  1.0  1.0  1.0  1.0  1.0  1.0  1.0  ...   1.0   1.0   1.0   \n",
       "3  1.0  1.0  1.0  1.0  1.0  1.0  1.0  1.0  1.0  1.0  ...   1.0   1.0   1.0   \n",
       "4  1.0  1.0  1.0  1.0  1.0  1.0  1.0  1.0  1.0  1.0  ...   1.0   1.0   1.0   \n",
       "\n",
       "   4453  4454  4455  4456  4457  4458  label  \n",
       "0   1.0   1.0   1.0   1.0   1.0   1.0      1  \n",
       "1   1.0   1.0   1.0   1.0   1.0   1.0      2  \n",
       "2   1.0   1.0   1.0   1.0   1.0   1.0      4  \n",
       "3   1.0   1.0   1.0   1.0   1.0   1.0      2  \n",
       "4   1.0   1.0   1.0   1.0   1.0   1.0      2  \n",
       "\n",
       "[5 rows x 4460 columns]"
      ]
     },
     "execution_count": 10,
     "metadata": {},
     "output_type": "execute_result"
    }
   ],
   "source": [
    "df.head()"
   ]
  },
  {
   "cell_type": "code",
   "execution_count": 2,
   "metadata": {},
   "outputs": [
    {
     "name": "stderr",
     "output_type": "stream",
     "text": [
      "2022-04-11 18:47:57.441161: W tensorflow/stream_executor/platform/default/dso_loader.cc:64] Could not load dynamic library 'libcudart.so.11.0'; dlerror: libcudart.so.11.0: cannot open shared object file: No such file or directory\n",
      "2022-04-11 18:47:57.441231: I tensorflow/stream_executor/cuda/cudart_stub.cc:29] Ignore above cudart dlerror if you do not have a GPU set up on your machine.\n"
     ]
    }
   ],
   "source": [
    "import os, sys\n",
    "from keras.layers import Input, Dense, Dropout\n",
    "from keras.models import Model, Sequential, load_model\n",
    "from keras.callbacks import EarlyStopping, ModelCheckpoint\n",
    "from keras.layers.advanced_activations import PReLU\n",
    "from keras import backend as K\n",
    "#from keras.utils import plot_model\n",
    "from keras.utils.vis_utils import plot_model"
   ]
  },
  {
   "cell_type": "code",
   "execution_count": 4,
   "metadata": {},
   "outputs": [],
   "source": [
    "activation = None  # PReLU if set to None\n",
    "dropout_rate = 0  # from 0 to 1\n",
    "n_l_e = 5\n",
    "decoded_layer_name = 'encoded'\n",
    "n_wvl = 4459\n",
    "\n",
    "# compute number of nodes in every connected layer\n",
    "n_l_1 = int(n_wvl * 0.75)\n",
    "n_l_2 = int(n_wvl * 0.50)\n",
    "n_l_3 = 0  # int(n_wvl * 0.40)\n",
    "n_l_4 = 0  # int(n_wvl * 0.20)\n",
    "n_l_5 = int(n_wvl * 0.25)\n",
    "n_l_6 = int(n_wvl * 0.10)"
   ]
  },
  {
   "cell_type": "code",
   "execution_count": 5,
   "metadata": {},
   "outputs": [
    {
     "name": "stderr",
     "output_type": "stream",
     "text": [
      "2022-04-11 18:48:56.418406: W tensorflow/stream_executor/platform/default/dso_loader.cc:64] Could not load dynamic library 'libcuda.so.1'; dlerror: libcuda.so.1: cannot open shared object file: No such file or directory\n",
      "2022-04-11 18:48:56.418451: W tensorflow/stream_executor/cuda/cuda_driver.cc:269] failed call to cuInit: UNKNOWN ERROR (303)\n",
      "2022-04-11 18:48:56.418495: I tensorflow/stream_executor/cuda/cuda_diagnostics.cc:156] kernel driver does not appear to be running on this host (nut): /proc/driver/nvidia/version does not exist\n",
      "2022-04-11 18:48:56.418829: I tensorflow/core/platform/cpu_feature_guard.cc:151] This TensorFlow binary is optimized with oneAPI Deep Neural Network Library (oneDNN) to use the following CPU instructions in performance-critical operations:  FMA\n",
      "To enable them in other operations, rebuild TensorFlow with the appropriate compiler flags.\n"
     ]
    },
    {
     "name": "stdout",
     "output_type": "stream",
     "text": [
      "Model: \"sequential\"\n",
      "_________________________________________________________________\n",
      " Layer (type)                Output Shape              Param #   \n",
      "=================================================================\n",
      " E_1 (Dense)                 (None, 3344)              14914240  \n",
      "                                                                 \n",
      " PR_1 (PReLU)                (None, 3344)              3344      \n",
      "                                                                 \n",
      " E_2 (Dense)                 (None, 2229)              7456005   \n",
      "                                                                 \n",
      " PR_2 (PReLU)                (None, 2229)              2229      \n",
      "                                                                 \n",
      " E_5 (Dense)                 (None, 1114)              2484220   \n",
      "                                                                 \n",
      " PR_5 (PReLU)                (None, 1114)              1114      \n",
      "                                                                 \n",
      " E_6 (Dense)                 (None, 445)               496175    \n",
      "                                                                 \n",
      " PR_6 (PReLU)                (None, 445)               445       \n",
      "                                                                 \n",
      " encoded (Dense)             (None, 5)                 2230      \n",
      "                                                                 \n",
      " PR_7 (PReLU)                (None, 5)                 5         \n",
      "                                                                 \n",
      " D_1 (Dense)                 (None, 445)               2670      \n",
      "                                                                 \n",
      " PR_8 (PReLU)                (None, 445)               445       \n",
      "                                                                 \n",
      " D_2 (Dense)                 (None, 1114)              496844    \n",
      "                                                                 \n",
      " PR_9 (PReLU)                (None, 1114)              1114      \n",
      "                                                                 \n",
      " D_5 (Dense)                 (None, 2229)              2485335   \n",
      "                                                                 \n",
      " PR_12 (PReLU)               (None, 2229)              2229      \n",
      "                                                                 \n",
      " D_6 (Dense)                 (None, 3344)              7457120   \n",
      "                                                                 \n",
      " PR_13 (PReLU)               (None, 3344)              3344      \n",
      "                                                                 \n",
      " recreated (Dense)           (None, 4459)              14915355  \n",
      "                                                                 \n",
      "=================================================================\n",
      "Total params: 50,724,463\n",
      "Trainable params: 50,724,463\n",
      "Non-trainable params: 0\n",
      "_________________________________________________________________\n"
     ]
    }
   ],
   "source": [
    "autoencoder = Sequential()\n",
    "\n",
    "if n_l_1 > 0:\n",
    "    autoencoder.add(Dense(n_l_1, input_shape=(n_wvl,), activation=activation, name='E_1'))\n",
    "    if dropout_rate > 0:\n",
    "        autoencoder.add(Dropout(dropout_rate, name='DO_1'))\n",
    "    if activation is None:\n",
    "        autoencoder.add(PReLU(name='PR_1'))\n",
    "\n",
    "if n_l_2 > 0:\n",
    "    autoencoder.add(Dense(n_l_2, activation=activation, name='E_2'))\n",
    "    if dropout_rate > 0:\n",
    "        autoencoder.add(Dropout(dropout_rate, name='DO_2'))\n",
    "    if activation is None:\n",
    "        autoencoder.add(PReLU(name='PR_2'))\n",
    "\n",
    "if n_l_3 > 0:\n",
    "    autoencoder.add(Dense(n_l_3, activation=activation, name='E_3'))\n",
    "    if dropout_rate > 0:\n",
    "        autoencoder.add(Dropout(dropout_rate, name='DO_3'))\n",
    "    if activation is None:\n",
    "        autoencoder.add(PReLU(name='PR_3'))\n",
    "\n",
    "if n_l_4 > 0:\n",
    "    autoencoder.add(Dense(n_l_4, activation=activation, name='E_4'))\n",
    "    if dropout_rate > 0:\n",
    "        autoencoder.add(Dropout(dropout_rate, name='DO_4'))\n",
    "    if activation is None:\n",
    "        autoencoder.add(PReLU(name='PR_4'))\n",
    "\n",
    "if n_l_5 > 0:\n",
    "    autoencoder.add(Dense(n_l_5, activation=activation, name='E_5'))\n",
    "    if dropout_rate > 0:\n",
    "        autoencoder.add(Dropout(dropout_rate, name='DO_5'))\n",
    "    if activation is None:\n",
    "        autoencoder.add(PReLU(name='PR_5'))\n",
    "\n",
    "if n_l_6 > 0:\n",
    "    autoencoder.add(Dense(n_l_6, activation=activation, name='E_6'))\n",
    "    if dropout_rate > 0:\n",
    "        autoencoder.add(Dropout(dropout_rate, name='DO_6'))\n",
    "    if activation is None:\n",
    "        autoencoder.add(PReLU(name='PR_6'))\n",
    "\n",
    "autoencoder.add(Dense(n_l_e, activation=activation, name=decoded_layer_name))\n",
    "if activation is None:\n",
    "        autoencoder.add(PReLU(name='PR_7'))\n",
    "\n",
    "if n_l_6 > 0:\n",
    "    autoencoder.add(Dense(n_l_6, activation=activation, name='D_1'))\n",
    "    if dropout_rate > 0:\n",
    "        autoencoder.add(Dropout(dropout_rate, name='DO_8'))\n",
    "    if activation is None:\n",
    "            autoencoder.add(PReLU(name='PR_8'))\n",
    "\n",
    "if n_l_5 > 0:\n",
    "    autoencoder.add(Dense(n_l_5, activation=activation, name='D_2'))\n",
    "    if dropout_rate > 0:\n",
    "        autoencoder.add(Dropout(dropout_rate, name='DO_9'))\n",
    "    if activation is None:\n",
    "        autoencoder.add(PReLU(name='PR_9'))\n",
    "\n",
    "if n_l_4 > 0:\n",
    "    autoencoder.add(Dense(n_l_4, activation=activation, name='D_3'))\n",
    "    if dropout_rate > 0:\n",
    "        autoencoder.add(Dropout(dropout_rate, name='DO_10'))\n",
    "    if activation is None:\n",
    "        autoencoder.add(PReLU(name='PR_10'))\n",
    "\n",
    "if n_l_3 > 0:\n",
    "    autoencoder.add(Dense(n_l_3, activation=activation, name='D_4'))\n",
    "    if dropout_rate > 0:\n",
    "        autoencoder.add(Dropout(dropout_rate, name='DO_11'))\n",
    "    if activation is None:\n",
    "        autoencoder.add(PReLU(name='PR_11'))\n",
    "\n",
    "if n_l_2 > 0:\n",
    "    autoencoder.add(Dense(n_l_2, activation=activation, name='D_5'))\n",
    "    if dropout_rate > 0:\n",
    "        autoencoder.add(Dropout(dropout_rate, name='DO_12'))\n",
    "    if activation is None:\n",
    "        autoencoder.add(PReLU(name='PR_12'))\n",
    "\n",
    "if n_l_1 > 0:\n",
    "    autoencoder.add(Dense(n_l_1, activation=activation, name='D_6'))\n",
    "    if dropout_rate > 0:\n",
    "        autoencoder.add(Dropout(dropout_rate, name='DO_13'))\n",
    "    if activation is None:\n",
    "        autoencoder.add(PReLU(name='PR_13'))\n",
    "\n",
    "autoencoder.add(Dense(n_wvl, activation='linear', name='recreated'))\n",
    "autoencoder.summary()\n",
    "\n",
    "# Visualize network architecture and save the visualization as a file\n",
    "#plot_model(autoencoder, show_layer_names=True, show_shapes=True, to_file='ann_network_structure_a.pdf')\n",
    "#plot_model(autoencoder, show_layer_names=True, show_shapes=True, to_file='ann_network_structure_a.png', dpi=300)\n",
    "\n",
    "# model file handling\n",
    "out_model_file = 'model_weights.h5'\n",
    "\n",
    "if os.path.isfile(out_model_file):\n",
    "    autoencoder.load_weights(out_model_file, by_name=True)\n"
   ]
  },
  {
   "cell_type": "code",
   "execution_count": 24,
   "metadata": {
    "scrolled": true
   },
   "outputs": [
    {
     "name": "stdout",
     "output_type": "stream",
     "text": [
      "You must install pydot (`pip install pydot`) and install graphviz (see instructions at https://graphviz.gitlab.io/download/) for plot_model/model_to_dot to work.\n",
      "You must install pydot (`pip install pydot`) and install graphviz (see instructions at https://graphviz.gitlab.io/download/) for plot_model/model_to_dot to work.\n"
     ]
    }
   ],
   "source": [
    "plot_model(autoencoder, show_layer_names=True, show_shapes=True, to_file='ann_network_structure_a.pdf')\n",
    "plot_model(autoencoder, show_layer_names=True, show_shapes=True, to_file='ann_network_structure_a.png', dpi=300)"
   ]
  },
  {
   "cell_type": "code",
   "execution_count": 25,
   "metadata": {},
   "outputs": [
    {
     "ename": "NameError",
     "evalue": "name 'optimizer' is not defined",
     "output_type": "error",
     "traceback": [
      "\u001b[0;31m---------------------------------------------------------------------------\u001b[0m",
      "\u001b[0;31mNameError\u001b[0m                                 Traceback (most recent call last)",
      "Input \u001b[0;32mIn [25]\u001b[0m, in \u001b[0;36m<cell line: 1>\u001b[0;34m()\u001b[0m\n\u001b[0;32m----> 1\u001b[0m autoencoder\u001b[38;5;241m.\u001b[39mcompile(optimizer\u001b[38;5;241m=\u001b[39m\u001b[43moptimizer\u001b[49m, loss\u001b[38;5;241m=\u001b[39m\u001b[38;5;124m'\u001b[39m\u001b[38;5;124mmae\u001b[39m\u001b[38;5;124m'\u001b[39m)\n",
      "\u001b[0;31mNameError\u001b[0m: name 'optimizer' is not defined"
     ]
    }
   ],
   "source": [
    "autoencoder.compile(optimizer=optimizer, loss='mae')"
   ]
  }
 ],
 "metadata": {
  "interpreter": {
   "hash": "3aa1867c408c14afe351cfd5d1be181646832c7964023d6477fd09a3c85411b7"
  },
  "kernelspec": {
   "display_name": "Python 3 (ipykernel)",
   "language": "python",
   "name": "python3"
  },
  "language_info": {
   "codemirror_mode": {
    "name": "ipython",
    "version": 3
   },
   "file_extension": ".py",
   "mimetype": "text/x-python",
   "name": "python",
   "nbconvert_exporter": "python",
   "pygments_lexer": "ipython3",
   "version": "3.9.12"
  }
 },
 "nbformat": 4,
 "nbformat_minor": 4
}
