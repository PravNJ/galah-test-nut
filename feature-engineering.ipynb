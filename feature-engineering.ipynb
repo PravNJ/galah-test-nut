{
 "cells": [
  {
   "cell_type": "code",
   "execution_count": 1,
   "metadata": {},
   "outputs": [],
   "source": [
    "import h5py\n",
    "import numpy as np\n",
    "import pandas as pd\n",
    "from cesium import featurize\n",
    "import matplotlib.pyplot as plt \n",
    "#from MulticoreTSNE import MulticoreTSNE as TSNE\n",
    "from sklearn.manifold import TSNE\n",
    "\n",
    "import seaborn as sns \n",
    "plt.rcParams[\"figure.figsize\"] = [16,9]\n",
    "sns.set_style('whitegrid')\n",
    "\n",
    "GRID_SIZE = 0.06\n",
    "LOWER_LAMBDA = 6472.5\n",
    "UPPER_LAMBDA = 6740\n",
    "PLOT_MASK = range(1475,1550)"
   ]
  },
  {
   "cell_type": "code",
   "execution_count": 2,
   "metadata": {},
   "outputs": [],
   "source": [
    "hf_spec = h5py.File(\"/data/praveen/GDR3_non_null_resampled_spectra.h5\", \"r\")\n",
    "df1 = pd.DataFrame(hf_spec[\"spectra\"])\n",
    "\n",
    "hf_spec_2 = h5py.File(\"/data/praveen/GDR3_missed60K_resampled_spectra.h5\", \"r\")\n",
    "df2 = pd.DataFrame(hf_spec_2[\"spectra\"])\n",
    "\n",
    "hf_grid = h5py.File(\"/data/praveen/wl_grid.h5\", \"r\")\n",
    "wl_grid = np.array(hf_grid[\"wl_grid\"])\n",
    "\n",
    "frames = [df1, df2]\n",
    "result = pd.concat(frames)"
   ]
  },
  {
   "cell_type": "code",
   "execution_count": 3,
   "metadata": {},
   "outputs": [],
   "source": [
    "hf_spec.close()\n",
    "hf_spec_2.close()\n",
    "hf_grid.close()"
   ]
  },
  {
   "cell_type": "code",
   "execution_count": 4,
   "metadata": {},
   "outputs": [],
   "source": [
    "df_masked = result.loc[:,PLOT_MASK]\n",
    "df_masked_np = df_masked.to_numpy()\n",
    "wl_grid_array = np.tile(wl_grid[PLOT_MASK], (df_masked_np.shape[0],1)) #for compatability reasons, we need to create an (p,n) grid of \"times\" for (p,n) sames where n = number of timestamps "
   ]
  },
  {
   "cell_type": "code",
   "execution_count": 5,
   "metadata": {
    "scrolled": false
   },
   "outputs": [
    {
     "data": {
      "text/html": [
       "<div>\n",
       "<style scoped>\n",
       "    .dataframe tbody tr th:only-of-type {\n",
       "        vertical-align: middle;\n",
       "    }\n",
       "\n",
       "    .dataframe tbody tr th {\n",
       "        vertical-align: top;\n",
       "    }\n",
       "\n",
       "    .dataframe thead th {\n",
       "        text-align: right;\n",
       "    }\n",
       "</style>\n",
       "<table border=\"1\" class=\"dataframe\">\n",
       "  <thead>\n",
       "    <tr style=\"text-align: right;\">\n",
       "      <th></th>\n",
       "      <th>1475</th>\n",
       "      <th>1476</th>\n",
       "      <th>1477</th>\n",
       "      <th>1478</th>\n",
       "      <th>1479</th>\n",
       "      <th>1480</th>\n",
       "      <th>1481</th>\n",
       "      <th>1482</th>\n",
       "      <th>1483</th>\n",
       "      <th>1484</th>\n",
       "      <th>...</th>\n",
       "      <th>1540</th>\n",
       "      <th>1541</th>\n",
       "      <th>1542</th>\n",
       "      <th>1543</th>\n",
       "      <th>1544</th>\n",
       "      <th>1545</th>\n",
       "      <th>1546</th>\n",
       "      <th>1547</th>\n",
       "      <th>1548</th>\n",
       "      <th>1549</th>\n",
       "    </tr>\n",
       "  </thead>\n",
       "  <tbody>\n",
       "    <tr>\n",
       "      <th>0</th>\n",
       "      <td>1.002929</td>\n",
       "      <td>1.020100</td>\n",
       "      <td>1.024491</td>\n",
       "      <td>1.022349</td>\n",
       "      <td>1.012781</td>\n",
       "      <td>0.992014</td>\n",
       "      <td>0.972579</td>\n",
       "      <td>0.980616</td>\n",
       "      <td>1.017553</td>\n",
       "      <td>1.024633</td>\n",
       "      <td>...</td>\n",
       "      <td>0.981723</td>\n",
       "      <td>1.000010</td>\n",
       "      <td>1.010591</td>\n",
       "      <td>0.986887</td>\n",
       "      <td>0.998070</td>\n",
       "      <td>1.034840</td>\n",
       "      <td>1.039356</td>\n",
       "      <td>1.017275</td>\n",
       "      <td>1.003299</td>\n",
       "      <td>0.992692</td>\n",
       "    </tr>\n",
       "    <tr>\n",
       "      <th>1</th>\n",
       "      <td>0.913974</td>\n",
       "      <td>0.925080</td>\n",
       "      <td>0.914015</td>\n",
       "      <td>0.910713</td>\n",
       "      <td>0.909456</td>\n",
       "      <td>0.895285</td>\n",
       "      <td>0.886678</td>\n",
       "      <td>0.900813</td>\n",
       "      <td>0.901776</td>\n",
       "      <td>0.873538</td>\n",
       "      <td>...</td>\n",
       "      <td>0.920796</td>\n",
       "      <td>0.959569</td>\n",
       "      <td>0.955362</td>\n",
       "      <td>0.919839</td>\n",
       "      <td>0.916352</td>\n",
       "      <td>0.927437</td>\n",
       "      <td>0.954766</td>\n",
       "      <td>0.975278</td>\n",
       "      <td>0.964925</td>\n",
       "      <td>0.940629</td>\n",
       "    </tr>\n",
       "    <tr>\n",
       "      <th>2</th>\n",
       "      <td>0.852568</td>\n",
       "      <td>0.855619</td>\n",
       "      <td>0.852560</td>\n",
       "      <td>0.847285</td>\n",
       "      <td>0.843284</td>\n",
       "      <td>0.833912</td>\n",
       "      <td>0.815157</td>\n",
       "      <td>0.815373</td>\n",
       "      <td>0.822885</td>\n",
       "      <td>0.808645</td>\n",
       "      <td>...</td>\n",
       "      <td>0.850151</td>\n",
       "      <td>0.841934</td>\n",
       "      <td>0.837705</td>\n",
       "      <td>0.847344</td>\n",
       "      <td>0.861569</td>\n",
       "      <td>0.875073</td>\n",
       "      <td>0.886794</td>\n",
       "      <td>0.884729</td>\n",
       "      <td>0.878885</td>\n",
       "      <td>0.859658</td>\n",
       "    </tr>\n",
       "    <tr>\n",
       "      <th>3</th>\n",
       "      <td>0.799966</td>\n",
       "      <td>0.805414</td>\n",
       "      <td>0.790533</td>\n",
       "      <td>0.784372</td>\n",
       "      <td>0.764509</td>\n",
       "      <td>0.766564</td>\n",
       "      <td>0.785371</td>\n",
       "      <td>0.782442</td>\n",
       "      <td>0.776574</td>\n",
       "      <td>0.776972</td>\n",
       "      <td>...</td>\n",
       "      <td>0.826576</td>\n",
       "      <td>0.834315</td>\n",
       "      <td>0.820822</td>\n",
       "      <td>0.824237</td>\n",
       "      <td>0.821758</td>\n",
       "      <td>0.825028</td>\n",
       "      <td>0.833799</td>\n",
       "      <td>0.852333</td>\n",
       "      <td>0.860145</td>\n",
       "      <td>0.859907</td>\n",
       "    </tr>\n",
       "    <tr>\n",
       "      <th>4</th>\n",
       "      <td>0.762165</td>\n",
       "      <td>0.753905</td>\n",
       "      <td>0.756847</td>\n",
       "      <td>0.772023</td>\n",
       "      <td>0.768651</td>\n",
       "      <td>0.756399</td>\n",
       "      <td>0.747767</td>\n",
       "      <td>0.750086</td>\n",
       "      <td>0.752324</td>\n",
       "      <td>0.737946</td>\n",
       "      <td>...</td>\n",
       "      <td>0.807266</td>\n",
       "      <td>0.821148</td>\n",
       "      <td>0.830479</td>\n",
       "      <td>0.826671</td>\n",
       "      <td>0.820743</td>\n",
       "      <td>0.815063</td>\n",
       "      <td>0.803316</td>\n",
       "      <td>0.793477</td>\n",
       "      <td>0.788137</td>\n",
       "      <td>0.810344</td>\n",
       "    </tr>\n",
       "  </tbody>\n",
       "</table>\n",
       "<p>5 rows × 75 columns</p>\n",
       "</div>"
      ],
      "text/plain": [
       "       1475      1476      1477      1478      1479      1480      1481  \\\n",
       "0  1.002929  1.020100  1.024491  1.022349  1.012781  0.992014  0.972579   \n",
       "1  0.913974  0.925080  0.914015  0.910713  0.909456  0.895285  0.886678   \n",
       "2  0.852568  0.855619  0.852560  0.847285  0.843284  0.833912  0.815157   \n",
       "3  0.799966  0.805414  0.790533  0.784372  0.764509  0.766564  0.785371   \n",
       "4  0.762165  0.753905  0.756847  0.772023  0.768651  0.756399  0.747767   \n",
       "\n",
       "       1482      1483      1484  ...      1540      1541      1542      1543  \\\n",
       "0  0.980616  1.017553  1.024633  ...  0.981723  1.000010  1.010591  0.986887   \n",
       "1  0.900813  0.901776  0.873538  ...  0.920796  0.959569  0.955362  0.919839   \n",
       "2  0.815373  0.822885  0.808645  ...  0.850151  0.841934  0.837705  0.847344   \n",
       "3  0.782442  0.776574  0.776972  ...  0.826576  0.834315  0.820822  0.824237   \n",
       "4  0.750086  0.752324  0.737946  ...  0.807266  0.821148  0.830479  0.826671   \n",
       "\n",
       "       1544      1545      1546      1547      1548      1549  \n",
       "0  0.998070  1.034840  1.039356  1.017275  1.003299  0.992692  \n",
       "1  0.916352  0.927437  0.954766  0.975278  0.964925  0.940629  \n",
       "2  0.861569  0.875073  0.886794  0.884729  0.878885  0.859658  \n",
       "3  0.821758  0.825028  0.833799  0.852333  0.860145  0.859907  \n",
       "4  0.820743  0.815063  0.803316  0.793477  0.788137  0.810344  \n",
       "\n",
       "[5 rows x 75 columns]"
      ]
     },
     "execution_count": 5,
     "metadata": {},
     "output_type": "execute_result"
    }
   ],
   "source": [
    "df_masked.head()"
   ]
  },
  {
   "cell_type": "code",
   "execution_count": 6,
   "metadata": {},
   "outputs": [
    {
     "data": {
      "text/plain": [
       "(588344, 75)"
      ]
     },
     "execution_count": 6,
     "metadata": {},
     "output_type": "execute_result"
    }
   ],
   "source": [
    "wl_grid_array.shape"
   ]
  },
  {
   "cell_type": "code",
   "execution_count": 7,
   "metadata": {},
   "outputs": [
    {
     "data": {
      "text/plain": [
       "(588344, 75)"
      ]
     },
     "execution_count": 7,
     "metadata": {},
     "output_type": "execute_result"
    }
   ],
   "source": [
    "df_masked_np.shape"
   ]
  },
  {
   "cell_type": "code",
   "execution_count": 8,
   "metadata": {},
   "outputs": [],
   "source": [
    "wl_grid_list = list(wl_grid_array) #cesium takes inputs as a list of (p,n) time series so we convert to a list \n",
    "df_masked_list = list(df_masked_np)"
   ]
  },
  {
   "cell_type": "code",
   "execution_count": 9,
   "metadata": {},
   "outputs": [],
   "source": [
    "features_to_use = [\"amplitude\",\"maximum\",\"minimum\",\"all_times_nhist_numpeaks\"]"
   ]
  },
  {
   "cell_type": "code",
   "execution_count": 10,
   "metadata": {},
   "outputs": [],
   "source": [
    "fset_cesium = featurize.featurize_time_series(times=wl_grid_list ,values=df_masked_list, errors=None,features_to_use=features_to_use) #feature computation step"
   ]
  },
  {
   "cell_type": "code",
   "execution_count": 11,
   "metadata": {},
   "outputs": [
    {
     "name": "stdout",
     "output_type": "stream",
     "text": [
      "feature amplitude   maximum   minimum all_times_nhist_numpeaks\n",
      "channel         0         0         0                        0\n",
      "0        0.355802  1.074264  0.362660                     24.0\n",
      "1        0.383127  0.975278  0.209023                     24.0\n",
      "2        0.338782  0.886794  0.209230                     24.0\n",
      "3        0.320627  0.860145  0.218891                     24.0\n",
      "4        0.305086  0.830479  0.220307                     24.0\n"
     ]
    }
   ],
   "source": [
    "print(fset_cesium.head())"
   ]
  },
  {
   "cell_type": "code",
   "execution_count": 12,
   "metadata": {
    "scrolled": true
   },
   "outputs": [
    {
     "data": {
      "image/png": "[encoded data removed]",
      "text/plain": [
       "<Figure size 432x288 with 1 Axes>"
      ]
     },
     "metadata": {
      "needs_background": "light"
     },
     "output_type": "display_data"
    }
   ],
   "source": [
    "%matplotlib inline\n",
    "hist_maximum = fset_cesium[\"maximum\"].hist(bins=200)"
   ]
  },
  {
   "cell_type": "code",
   "execution_count": 13,
   "metadata": {
    "scrolled": true
   },
   "outputs": [
    {
     "data": {
      "image/png": "[encoded data removed]",
      "text/plain": [
       "<Figure size 432x288 with 1 Axes>"
      ]
     },
     "metadata": {
      "needs_background": "light"
     },
     "output_type": "display_data"
    }
   ],
   "source": [
    "hist_maximum = fset_cesium[\"minimum\"].hist(bins=100)"
   ]
  },
  {
   "cell_type": "code",
   "execution_count": 14,
   "metadata": {},
   "outputs": [],
   "source": [
    "import seaborn as sns \n",
    "plt.rcParams[\"figure.figsize\"] = [16,9]\n",
    "sns.set_style('whitegrid')"
   ]
  },
  {
   "cell_type": "code",
   "execution_count": 22,
   "metadata": {
    "scrolled": true
   },
   "outputs": [
    {
     "data": {
      "text/plain": [
       "(1.0, 3.0)"
      ]
     },
     "execution_count": 22,
     "metadata": {},
     "output_type": "execute_result"
    },
    {
     "data": {
      "image/png": "[encoded data removed]",
      "text/plain": [
       "<Figure size 1152x648 with 1 Axes>"
      ]
     },
     "metadata": {},
     "output_type": "display_data"
    }
   ],
   "source": [
    "fig, ax = plt.subplots()\n",
    "ax.hist(fset_cesium[\"maximum\"], bins=5000, alpha=.75)\n",
    "ax.set_ylabel(\"Number of samples\")\n",
    "ax.set_xlabel(\"Maximum flux\")\n",
    "ax.set_title(\"Max Flux Distribution - DR3 with Hα masked\")\n",
    "ax.set_xlim([1, 3.0])\n",
    "#ax.set_ylim([0, 5])"
   ]
  },
  {
   "cell_type": "code",
   "execution_count": null,
   "metadata": {},
   "outputs": [],
   "source": []
  },
  {
   "cell_type": "code",
   "execution_count": 16,
   "metadata": {
    "scrolled": true
   },
   "outputs": [
    {
     "data": {
      "text/plain": [
       "(0.0, 1.5)"
      ]
     },
     "execution_count": 16,
     "metadata": {},
     "output_type": "execute_result"
    },
    {
     "data": {
      "image/png": "[encoded data removed]",
      "text/plain": [
       "<Figure size 1152x648 with 1 Axes>"
      ]
     },
     "metadata": {},
     "output_type": "display_data"
    }
   ],
   "source": [
    "fig, ax = plt.subplots()\n",
    "ax.hist(fset_cesium[\"minimum\"], bins=5000, alpha=.75)\n",
    "ax.set_ylabel(\"Number of samples\")\n",
    "ax.set_xlabel(\"Minimum flux\")\n",
    "ax.set_title(\"Min Flux Distribution - DR3 with Hα masked\")\n",
    "ax.set_xlim([0, 1.5])\n",
    "#ax.set_ylim([0, 5])"
   ]
  },
  {
   "cell_type": "code",
   "execution_count": 17,
   "metadata": {},
   "outputs": [
    {
     "ename": "IndexError",
     "evalue": "too many indices for array: array is 1-dimensional, but 2 were indexed",
     "output_type": "error",
     "traceback": [
      "\u001b[0;31m---------------------------------------------------------------------------\u001b[0m",
      "\u001b[0;31mIndexError\u001b[0m                                Traceback (most recent call last)",
      "\u001b[0;32m<ipython-input-17-8ce2a607a3ab>\u001b[0m in \u001b[0;36m<module>\u001b[0;34m\u001b[0m\n\u001b[0;32m----> 1\u001b[0;31m \u001b[0mmax_less_than_1\u001b[0m \u001b[0;34m=\u001b[0m \u001b[0mfset_cesium\u001b[0m\u001b[0;34m.\u001b[0m\u001b[0mindex\u001b[0m\u001b[0;34m[\u001b[0m\u001b[0mfset_cesium\u001b[0m\u001b[0;34m[\u001b[0m\u001b[0;34m'maximum'\u001b[0m\u001b[0;34m]\u001b[0m \u001b[0;34m>\u001b[0m \u001b[0;36m1\u001b[0m\u001b[0;34m]\u001b[0m\u001b[0;34m.\u001b[0m\u001b[0mtolist\u001b[0m\u001b[0;34m(\u001b[0m\u001b[0;34m)\u001b[0m\u001b[0;34m\u001b[0m\u001b[0;34m\u001b[0m\u001b[0m\n\u001b[0m",
      "\u001b[0;32m~/anaconda3/envs/masters-thesis/lib/python3.8/site-packages/pandas/core/indexes/base.py\u001b[0m in \u001b[0;36m__getitem__\u001b[0;34m(self, key)\u001b[0m\n\u001b[1;32m   4614\u001b[0m             \u001b[0mkey\u001b[0m \u001b[0;34m=\u001b[0m \u001b[0mnp\u001b[0m\u001b[0;34m.\u001b[0m\u001b[0masarray\u001b[0m\u001b[0;34m(\u001b[0m\u001b[0mkey\u001b[0m\u001b[0;34m,\u001b[0m \u001b[0mdtype\u001b[0m\u001b[0;34m=\u001b[0m\u001b[0mbool\u001b[0m\u001b[0;34m)\u001b[0m\u001b[0;34m\u001b[0m\u001b[0;34m\u001b[0m\u001b[0m\n\u001b[1;32m   4615\u001b[0m \u001b[0;34m\u001b[0m\u001b[0m\n\u001b[0;32m-> 4616\u001b[0;31m         \u001b[0mresult\u001b[0m \u001b[0;34m=\u001b[0m \u001b[0mgetitem\u001b[0m\u001b[0;34m(\u001b[0m\u001b[0mkey\u001b[0m\u001b[0;34m)\u001b[0m\u001b[0;34m\u001b[0m\u001b[0;34m\u001b[0m\u001b[0m\n\u001b[0m\u001b[1;32m   4617\u001b[0m         \u001b[0;32mif\u001b[0m \u001b[0;32mnot\u001b[0m \u001b[0mis_scalar\u001b[0m\u001b[0;34m(\u001b[0m\u001b[0mresult\u001b[0m\u001b[0;34m)\u001b[0m\u001b[0;34m:\u001b[0m\u001b[0;34m\u001b[0m\u001b[0;34m\u001b[0m\u001b[0m\n\u001b[1;32m   4618\u001b[0m             \u001b[0;31m# error: Argument 1 to \"ndim\" has incompatible type \"Union[ExtensionArray,\u001b[0m\u001b[0;34m\u001b[0m\u001b[0;34m\u001b[0m\u001b[0;34m\u001b[0m\u001b[0m\n",
      "\u001b[0;31mIndexError\u001b[0m: too many indices for array: array is 1-dimensional, but 2 were indexed"
     ]
    }
   ],
   "source": [
    "max_less_than_1 = fset_cesium.index[fset_cesium['maximum'] > 1].tolist()"
   ]
  }
 ],
 "metadata": {
  "interpreter": {
   "hash": "990dc4f98e772390967ebb58feb6d8ba345f9894e89a1f74c7ac4577afaa2020"
  },
  "kernelspec": {
   "display_name": "Python 3",
   "language": "python",
   "name": "python3"
  },
  "language_info": {
   "codemirror_mode": {
    "name": "ipython",
    "version": 3
   },
   "file_extension": ".py",
   "mimetype": "text/x-python",
   "name": "python",
   "nbconvert_exporter": "python",
   "pygments_lexer": "ipython3",
   "version": "3.8.11"
  }
 },
 "nbformat": 4,
 "nbformat_minor": 2
}
